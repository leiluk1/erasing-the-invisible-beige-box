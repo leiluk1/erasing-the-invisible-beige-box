{
 "cells": [
  {
   "cell_type": "markdown",
   "metadata": {},
   "source": [
    "### Regeneration Attacks\n",
    "Regeneration attacks use off-the-shelf VAEs and diffusion models to transfer a target image $x ∈ X$ to a latent representation followed by a restoration to $x′ \\in X$ that is faithful to its original representation, i.e., x≈x. Since the chosen VAE or diffusion model will not be contained by the attacker’s model of interest,\n",
    "the entire regeneration is likely to disrupt the latent representation of $x$, thereby damaging an embedded watermark. However, since the capacity of the attacker’s regenerative model is inferior to the target model, $x′$ will likely be of reduced quality.\n",
    "\n",
    "#### Prompted regeneration\n",
    "We propose a simple variation on a regenerative diffusion attack: if an image is produced via a known prompt, then an attacker uses the prompt to guide the diffusion of their surrogate model.\n",
    "\n",
    "#### Rinsing generation 2x\n",
    "An image is noised then de-noised by FLUX1-dev two times with strength 0.6, guidance_scale 10, num_inference_steps=10.\n",
    "\n",
    "We use prompt \"original image\" for FLUX1-dev. in our rinsing regeneration 2x attack."
   ]
  },
  {
   "cell_type": "code",
   "execution_count": null,
   "metadata": {},
   "outputs": [],
   "source": [
    "import torch\n",
    "from diffusers import FluxImg2ImgPipeline\n",
    "from huggingface_hub import login\n",
    "from skimage.io import imread\n",
    "import numpy as np\n",
    "from PIL import Image\n",
    "import os\n",
    "login(LOGIN) #hugiingface login"
   ]
  },
  {
   "cell_type": "code",
   "execution_count": null,
   "metadata": {},
   "outputs": [],
   "source": [
    "#code from https://huggingface.co/docs/diffusers/main/api/pipelines/flux\n",
    "\n",
    "device = \"cuda:2\"\n",
    "\n",
    "pipe = FluxImg2ImgPipeline.from_pretrained(\"black-forest-labs/FLUX.1-dev\", torch_dtype=torch.bfloat16)\n",
    "pipe.to(\"cuda:2\")"
   ]
  },
  {
   "cell_type": "code",
   "execution_count": null,
   "metadata": {},
   "outputs": [],
   "source": [
    "def image_to_tensor(image):\n",
    "    image = np.array(image).astype(np.float32) / 255.0\n",
    "    image = torch.tensor(image).permute(2, 0, 1).unsqueeze(0).to(device, dtype=torch.bfloat16)\n",
    "    return image"
   ]
  },
  {
   "cell_type": "code",
   "execution_count": null,
   "metadata": {},
   "outputs": [],
   "source": [
    "def regeneration(pipe, orig_dir, regen_dir):\n",
    "    filenames = sorted([f for f in os.listdir(orig_dir) if f.endswith('.png')])\n",
    "    for idx, name in enumerate(filenames):\n",
    "        img1 = imread(orig_dir + \"/\" + name)[:,:,:3]\n",
    "\n",
    "        img_out = pipe(\n",
    "            image=image_to_tensor(img1),\n",
    "            prompt=\"original image\",\n",
    "            height=512,\n",
    "            width=512,\n",
    "            strength=0.6,\n",
    "            guidance_scale=10,\n",
    "            num_inference_steps=10,\n",
    "            max_sequence_length=256,\n",
    "            generator=torch.Generator(\"cuda:1\").manual_seed(42)\n",
    "        ).images[0]\n",
    "\n",
    "        img_out.save(f\"{regen_dir}/{name}\")"
   ]
  },
  {
   "cell_type": "code",
   "execution_count": null,
   "metadata": {},
   "outputs": [],
   "source": [
    "def rinse2x(pipe, orig_dir, regen1x_dir, regen2x_dir):\n",
    "    regeneration(pipe, orig_dir, regen1x_dir)\n",
    "    regeneration(pipe, regen1x_dir, regen2x_dir)"
   ]
  },
  {
   "cell_type": "code",
   "execution_count": null,
   "metadata": {},
   "outputs": [],
   "source": [
    "#example of usage:\n",
    "#we use only images watermarked by TreeRing - (150-299 numbers)\n",
    "\n",
    "orig_dir = \"Neurips24_ETI_BeigeBox_treering\"\n",
    "\n",
    "regen1x_dir = \"Neurips24_ETI_BeigeBox_treering_regen1x\"\n",
    "regen2x_dir = \"Neurips24_ETI_BeigeBox_treering_regen2x\"\n",
    "\n",
    "rinse2x(pipe=pipe, orig_dir=orig_dir, regen1x_dir=regen1x_dir, regen2x_dir=regen2x_dir)"
   ]
  }
 ],
 "metadata": {
  "kernelspec": {
   "display_name": ".venv",
   "language": "python",
   "name": "python3"
  },
  "language_info": {
   "codemirror_mode": {
    "name": "ipython",
    "version": 3
   },
   "file_extension": ".py",
   "mimetype": "text/x-python",
   "name": "python",
   "nbconvert_exporter": "python",
   "pygments_lexer": "ipython3",
   "version": "3.10.6"
  }
 },
 "nbformat": 4,
 "nbformat_minor": 2
}
